{
 "cells": [
  {
   "cell_type": "markdown",
   "id": "c948c8f9-e4bf-4e23-91f2-e9ff1592c87a",
   "metadata": {},
   "source": [
    "Q.1"
   ]
  },
  {
   "cell_type": "markdown",
   "id": "d39dc561-6284-4f9d-ac4e-db57a0832de3",
   "metadata": {},
   "source": [
    "\"def\" is a keyword which is used to create a function"
   ]
  },
  {
   "cell_type": "code",
   "execution_count": 11,
   "id": "c79b3de4-9d03-4db3-ba10-f5d9502025b7",
   "metadata": {},
   "outputs": [
    {
     "data": {
      "text/plain": [
       "[2, 4, 6, 8, 10, 12, 14, 16, 18, 20, 22, 24]"
      ]
     },
     "execution_count": 11,
     "metadata": {},
     "output_type": "execute_result"
    }
   ],
   "source": [
    "x = range(1,26)\n",
    "\n",
    "def odd_num(x):\n",
    "    n = []\n",
    "    for i in x:\n",
    "        if i%2==0:\n",
    "            n.append(i)\n",
    "        \n",
    "    return n\n",
    "\n",
    "odd_num(x)"
   ]
  },
  {
   "cell_type": "markdown",
   "id": "2a032c40-7947-4a30-92d3-88d3c537afb0",
   "metadata": {},
   "source": [
    "Q.2"
   ]
  },
  {
   "cell_type": "code",
   "execution_count": 7,
   "id": "bae97906-3a29-4550-a899-f59070b9414e",
   "metadata": {},
   "outputs": [],
   "source": [
    "\"*args\" and \"**kwargs\" is used to give multiple inputs and key-values respectively"
   ]
  },
  {
   "cell_type": "code",
   "execution_count": 17,
   "id": "41d587d8-fa4a-4cc3-a7cf-990b11033a54",
   "metadata": {},
   "outputs": [],
   "source": [
    "def test1(*args):\n",
    "    n = []\n",
    "    for i in args:\n",
    "        if len(i)>=6:\n",
    "            n.append(i)\n",
    "        \n",
    "    return n"
   ]
  },
  {
   "cell_type": "code",
   "execution_count": 18,
   "id": "05da9104-0133-41eb-8544-088976c4cbb1",
   "metadata": {},
   "outputs": [
    {
     "data": {
      "text/plain": [
       "['Qureshi', 'Data_Science', 'Masters']"
      ]
     },
     "execution_count": 18,
     "metadata": {},
     "output_type": "execute_result"
    }
   ],
   "source": [
    "test1(\"Rehan\", \"Qureshi\", \"Data_Science\", \"Masters\")"
   ]
  },
  {
   "cell_type": "code",
   "execution_count": 34,
   "id": "a2d9ecb8-1667-46ac-93eb-a3af989e957b",
   "metadata": {},
   "outputs": [],
   "source": [
    "def test2(**kwargs):\n",
    "    for i in kwargs:\n",
    "        if type(kwargs[i])==list:\n",
    "            return i, kwargs[i]"
   ]
  },
  {
   "cell_type": "code",
   "execution_count": 35,
   "id": "bb966cea-e5fa-487f-af19-d8838f2e35f4",
   "metadata": {},
   "outputs": [
    {
     "data": {
      "text/plain": [
       "('d', ['Rehan', 'Qureshi'])"
      ]
     },
     "execution_count": 35,
     "metadata": {},
     "output_type": "execute_result"
    }
   ],
   "source": [
    "test2(a = 24, b = 56, c = 67, d = [\"Rehan\", \"Qureshi\"], e = (34.45, 56,89))"
   ]
  },
  {
   "cell_type": "markdown",
   "id": "67b50cf7-a3fb-4861-aca9-bb43ff25226e",
   "metadata": {},
   "source": [
    "Q.3"
   ]
  },
  {
   "cell_type": "markdown",
   "id": "160753be-f9b0-4851-930d-1521ac136ebc",
   "metadata": {},
   "source": [
    "Iterators are used to iterate over different data structures like python dictionary, list, tuple and set while programming. Most of the time for loop is used to iterate over a value."
   ]
  },
  {
   "cell_type": "code",
   "execution_count": 49,
   "id": "993d4cf7-c041-41e5-8d77-e95afaee2fb6",
   "metadata": {},
   "outputs": [
    {
     "name": "stdout",
     "output_type": "stream",
     "text": [
      "2 4 6 8 10 "
     ]
    }
   ],
   "source": [
    "l1 = [2, 4, 6, 8, 10, 12, 14, 16, 18, 20]\n",
    "\n",
    "count = 0\n",
    "for i in l1:\n",
    "    count = count+1\n",
    "    if count<=5:\n",
    "        print(i, end=\" \")\n",
    "        \n",
    "\n"
   ]
  },
  {
   "cell_type": "markdown",
   "id": "1e300f8b-fe24-4dde-9f20-3eeca7632845",
   "metadata": {},
   "source": [
    "Q.4"
   ]
  },
  {
   "cell_type": "markdown",
   "id": "8e4cca6b-0e57-4653-8bb1-6461c9757779",
   "metadata": {},
   "source": [
    "Generator functions behave and look just like normal functions, but with one defining characteristic. Instead of returning data, Python generator functions use the 'yield' keyword.\n",
    "The yield keyword will turn any expression that is given with it into a generator object and return it to the caller."
   ]
  },
  {
   "cell_type": "code",
   "execution_count": 46,
   "id": "81d8b596-c734-4909-ab79-1479dbd1c0a0",
   "metadata": {},
   "outputs": [
    {
     "name": "stdout",
     "output_type": "stream",
     "text": [
      "0 1 1 2 3 5 8 13 21 34 55 89 144 233 377 610 987 1597 2584 4181 "
     ]
    }
   ],
   "source": [
    "def test1(n):\n",
    "    a,b = 0, 1\n",
    "    for i in range(n):\n",
    "        yield a\n",
    "        a, b = b, a+b\n",
    "\n",
    "for i in test1(20):\n",
    "    print(i, end = \" \")\n"
   ]
  },
  {
   "cell_type": "markdown",
   "id": "fdd6dcec-5692-4dff-ba3d-ef9997961009",
   "metadata": {},
   "source": [
    "Q.5"
   ]
  },
  {
   "cell_type": "code",
   "execution_count": 34,
   "id": "37fcddea-7f6d-449d-9805-12e1b969fa3d",
   "metadata": {},
   "outputs": [],
   "source": [
    "def prime_num(start,end):\n",
    "    \n",
    "    for i in range(start, end):\n",
    "        flag = 0\n",
    "        for j in range(2,i):\n",
    "            if i%j==0:\n",
    "                flag = 1\n",
    "                break\n",
    "        if flag == 0:\n",
    "            yield i\n"
   ]
  },
  {
   "cell_type": "code",
   "execution_count": 49,
   "id": "301b4ec2-7c04-4874-83b5-6bcb196d1096",
   "metadata": {},
   "outputs": [
    {
     "name": "stdout",
     "output_type": "stream",
     "text": [
      "The first 20 prime number are as follows :\n",
      "2 3 5 7 11 13 17 19 23 29 31 37 41 43 47 53 59 61 67 71 "
     ]
    }
   ],
   "source": [
    "values = prime_num(2,1000)\n",
    "\n",
    "print(\"The first 20 prime number are as follows :\")\n",
    "\n",
    "for value in range(20):\n",
    "    print(next(values), end = \" \")"
   ]
  },
  {
   "cell_type": "code",
   "execution_count": null,
   "id": "2eac119e-6cfc-464a-95d5-c111ebb460d1",
   "metadata": {},
   "outputs": [],
   "source": []
  }
 ],
 "metadata": {
  "kernelspec": {
   "display_name": "Python 3 (ipykernel)",
   "language": "python",
   "name": "python3"
  },
  "language_info": {
   "codemirror_mode": {
    "name": "ipython",
    "version": 3
   },
   "file_extension": ".py",
   "mimetype": "text/x-python",
   "name": "python",
   "nbconvert_exporter": "python",
   "pygments_lexer": "ipython3",
   "version": "3.10.8"
  }
 },
 "nbformat": 4,
 "nbformat_minor": 5
}
