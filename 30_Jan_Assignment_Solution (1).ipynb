{
 "cells": [
  {
   "cell_type": "markdown",
   "id": "173effba-fcfa-4780-ae5f-f4a7332a5304",
   "metadata": {},
   "source": [
    "## Assignment 2 Solution - Rehan Qureshi"
   ]
  },
  {
   "cell_type": "markdown",
   "id": "20e88338-fcbf-4705-a918-9e9dcd683b27",
   "metadata": {},
   "source": [
    "### Q.1."
   ]
  },
  {
   "cell_type": "code",
   "execution_count": null,
   "id": "6f35996b-0151-464f-b119-3f3b0f20509e",
   "metadata": {},
   "outputs": [],
   "source": [
    "percent = int(input(\"Enter the percentage = \"))\n",
    "if percent > 90:\n",
    "    print(f\"Your grade is 'A'\")\n",
    "elif percent > 80 & percent <= 90:\n",
    "    print(f\"Your grade is 'B'\")\n",
    "elif percent > 60 & percent <= 80:\n",
    "    print(f\"Your grade is 'C'\")\n",
    "else:\n",
    "    print(f\"Your grade is 'D'\")"
   ]
  },
  {
   "cell_type": "markdown",
   "id": "ebd60a28-132f-4976-abc1-10dd401d0efe",
   "metadata": {},
   "source": [
    "### Q.2"
   ]
  },
  {
   "cell_type": "code",
   "execution_count": null,
   "id": "08acbbad-186f-45b3-b643-b0301a3190ea",
   "metadata": {},
   "outputs": [],
   "source": [
    "cp = int(input(\"Enter the price - \"))\n",
    "if cp>100000:\n",
    "    print(\"You need to pay '15%' road tax\")\n",
    "elif cp>50000 & cp<=100000:\n",
    "    print(\"You need to pay '10%' road tax\")\n",
    "else:\n",
    "    print(\"You need to pay '5%' road tax\")"
   ]
  },
  {
   "cell_type": "markdown",
   "id": "11ca7190-de87-46a5-a456-ba900a5b1a6e",
   "metadata": {},
   "source": [
    "### Q.3."
   ]
  },
  {
   "cell_type": "code",
   "execution_count": null,
   "id": "22145a74-26fe-4808-a304-415262b96f38",
   "metadata": {},
   "outputs": [],
   "source": [
    "city = input(\"Enter the city name - \")\n",
    "if city == \"Delhi\":\n",
    "    print(\"Red Fort\")\n",
    "    \n",
    "elif city == \"Agra\":\n",
    "    print(\"Taj Mahal\")\n",
    "    \n",
    "elif city == \"Jaipur\":\n",
    "    print(\"Jal Mahal\")\n",
    "    \n"
   ]
  },
  {
   "cell_type": "markdown",
   "id": "4610f555-0eb6-4376-8a8e-cd74cbdaa209",
   "metadata": {},
   "source": [
    "### Q.4"
   ]
  },
  {
   "cell_type": "code",
   "execution_count": 1,
   "id": "c9c9a241-80e4-4386-8a1f-fb66802d676b",
   "metadata": {},
   "outputs": [
    {
     "name": "stdin",
     "output_type": "stream",
     "text": [
      "Enter the number -  80\n"
     ]
    },
    {
     "name": "stdout",
     "output_type": "stream",
     "text": [
      "23\n"
     ]
    }
   ],
   "source": [
    "num = int(input(\"Enter the number - \"))\n",
    "count = 0\n",
    "while num>=10:\n",
    "    if num%3 == 0:\n",
    "        count = count+1\n",
    "    num = num-1\n",
    "print(count)"
   ]
  },
  {
   "cell_type": "markdown",
   "id": "63af3ac5-224b-4d63-8f52-be7dfbdff40d",
   "metadata": {},
   "source": [
    "### Q.5"
   ]
  },
  {
   "cell_type": "markdown",
   "id": "75bd7b60-9675-4a49-86fc-68ff5fb2321f",
   "metadata": {},
   "source": [
    "We use while loop when we have a certain condition and we want our condition to iterate until it is false. And once our condition gets false our program gets executed.\n",
    "\n",
    "For Example:\n",
    "\n",
    "n = 1\n",
    "\n",
    "while n<=10:\n",
    "    print(n)\n",
    "    n+=1\n",
    "    \n",
    "The above program will give the output from 0 to 10 and once the condition is false i.e when the value of n will become greater than 10, the program will get stop. It will iterate only when the n is less than or equal to 10\n",
    "\n",
    "\n"
   ]
  },
  {
   "cell_type": "markdown",
   "id": "5dad5dd4-4e4d-449b-92d0-68e3626e02a1",
   "metadata": {},
   "source": [
    "### Q.6"
   ]
  },
  {
   "cell_type": "code",
   "execution_count": 1,
   "id": "12f487c9-1125-426e-896f-fc2aa4f44b2b",
   "metadata": {},
   "outputs": [
    {
     "name": "stdout",
     "output_type": "stream",
     "text": [
      "      *\n",
      "     ***\n",
      "    *****\n",
      "   *******\n",
      "  *********\n",
      " ***********\n",
      "*************\n"
     ]
    }
   ],
   "source": [
    "#1\n",
    "\n",
    "k = 1\n",
    "i = 1\n",
    "while i<=7:\n",
    "    b = 1\n",
    "    while b<=7-i:\n",
    "        print(\" \", end=\"\")\n",
    "        b = b+1\n",
    "    \n",
    "    j = 1\n",
    "    while j<=k:\n",
    "        print(\"*\", end = \"\")\n",
    "        j = j+1\n",
    "        \n",
    "    k = k+2\n",
    "    print()\n",
    "    i = i+1\n",
    "\n",
    "\n"
   ]
  },
  {
   "cell_type": "code",
   "execution_count": 2,
   "id": "0a34f8ed-7845-49dc-969f-cd7ca97b5008",
   "metadata": {},
   "outputs": [
    {
     "name": "stdout",
     "output_type": "stream",
     "text": [
      " *******************\n",
      "  ****************\n",
      "   *************\n",
      "    **********\n",
      "     *******\n",
      "      ****\n",
      "       *\n",
      "        \n",
      "         \n",
      "          \n"
     ]
    }
   ],
   "source": [
    "#2\n",
    "\n",
    "i = 1\n",
    "n = 10\n",
    "while n>0:\n",
    "    b = 1\n",
    "    while b<=i:\n",
    "        print(\" \", end = \"\")\n",
    "        b = b+1\n",
    "    \n",
    "    j = 1\n",
    "    while j<= n*2-i:\n",
    "        print(\"*\", end = \"\")\n",
    "        j = j+1\n",
    "    \n",
    "    \n",
    "    n = n-1\n",
    "    i = i+1\n",
    "    print()"
   ]
  },
  {
   "cell_type": "code",
   "execution_count": 3,
   "id": "ca2cfed1-7398-4587-9d67-890dbf91cc9a",
   "metadata": {},
   "outputs": [
    {
     "name": "stdout",
     "output_type": "stream",
     "text": [
      "*\n",
      "**\n",
      "***\n",
      "****\n",
      "*****\n",
      "******\n",
      "*******\n"
     ]
    }
   ],
   "source": [
    "#3\n",
    "n=1\n",
    "\n",
    "while n<8:\n",
    "    print('*' * n)\n",
    "    n = n+1"
   ]
  },
  {
   "cell_type": "markdown",
   "id": "7c6bc58a-c245-417a-b125-1e1625981393",
   "metadata": {},
   "source": [
    "### Q.7"
   ]
  },
  {
   "cell_type": "code",
   "execution_count": 2,
   "id": "2cbacf6a-01c3-4860-826e-76263214b7a3",
   "metadata": {},
   "outputs": [
    {
     "name": "stdout",
     "output_type": "stream",
     "text": [
      "10\n",
      "9\n",
      "8\n",
      "7\n",
      "6\n",
      "5\n",
      "4\n",
      "3\n",
      "2\n",
      "1\n"
     ]
    }
   ],
   "source": [
    "i = 10\n",
    "while i>=1:\n",
    "    print(i)\n",
    "    i = i-1"
   ]
  },
  {
   "cell_type": "code",
   "execution_count": null,
   "id": "0702f024-b604-4df5-ad75-40c74f9ca5c4",
   "metadata": {},
   "outputs": [],
   "source": []
  }
 ],
 "metadata": {
  "kernelspec": {
   "display_name": "Python 3 (ipykernel)",
   "language": "python",
   "name": "python3"
  },
  "language_info": {
   "codemirror_mode": {
    "name": "ipython",
    "version": 3
   },
   "file_extension": ".py",
   "mimetype": "text/x-python",
   "name": "python",
   "nbconvert_exporter": "python",
   "pygments_lexer": "ipython3",
   "version": "3.10.8"
  }
 },
 "nbformat": 4,
 "nbformat_minor": 5
}
