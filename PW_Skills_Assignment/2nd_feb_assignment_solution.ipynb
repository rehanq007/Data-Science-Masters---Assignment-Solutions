{
 "cells": [
  {
   "cell_type": "markdown",
   "id": "db958c5f-42af-4036-b284-ff104a1b449d",
   "metadata": {},
   "source": [
    "Q.1"
   ]
  },
  {
   "cell_type": "markdown",
   "id": "7bb0a3e1-45cd-41be-928d-fd580b6afa6a",
   "metadata": {},
   "source": [
    "\"Tuples\" are one of the 4 data types in Python. Tuples are assigned if any element is stored in round bracket. The first value in the tuple will have the index [0], the second value [1], and so on. \n",
    "Tuples are immutable i.e we cannot change the element/values once assigned in tuple."
   ]
  },
  {
   "cell_type": "markdown",
   "id": "ae5b4ba7-0a37-4725-80d6-d3657b8ad1b1",
   "metadata": {},
   "source": [
    "Q.2"
   ]
  },
  {
   "cell_type": "markdown",
   "id": "b9c44026-81d0-4202-a03a-55b03ab56090",
   "metadata": {},
   "source": [
    "#Python has two in-built methods which can be used on Tuples:\n",
    "    \n",
    "1. count() - Returns the number of times a specified value occurs in a tuple\n",
    "    \n",
    "Ex.\n"
   ]
  },
  {
   "cell_type": "code",
   "execution_count": 8,
   "id": "be89de13-a714-43c1-98ce-8d95dcab9c13",
   "metadata": {},
   "outputs": [
    {
     "name": "stdout",
     "output_type": "stream",
     "text": [
      "3\n"
     ]
    }
   ],
   "source": [
    "t1 = (23,45,67,78,45,23,23)\n",
    "out1 = t1.count(23)\n",
    "print(out1)    #it will give as output 3 as 23 has occured 3 times in the tuple\n"
   ]
  },
  {
   "cell_type": "markdown",
   "id": "476b6c26-cc4d-4bab-94e7-e1d43fbb67b3",
   "metadata": {},
   "source": [
    "2. index() - Searches the tuple for a specified value and returns the position of where it was found\n",
    "\n",
    "Ex."
   ]
  },
  {
   "cell_type": "code",
   "execution_count": 10,
   "id": "ec53a9ee-bf0f-4f96-bb53-718647291e49",
   "metadata": {},
   "outputs": [
    {
     "name": "stdout",
     "output_type": "stream",
     "text": [
      "4\n"
     ]
    }
   ],
   "source": [
    "t2 = (2,3,4,5,6,78,8,9)\n",
    "out2 = t2.index(6)\n",
    "print(out2)    # it will give output as 4 as the position of '6' is 4 in the tuple"
   ]
  },
  {
   "cell_type": "markdown",
   "id": "43ca5ed4-9141-4675-9e3f-28cb1a8d6b57",
   "metadata": {},
   "source": [
    "Q.3"
   ]
  },
  {
   "cell_type": "markdown",
   "id": "78446f26-cebb-411c-91de-d005e454e8a7",
   "metadata": {},
   "source": [
    "'Set' is a data type which does not allow the duplication of any item."
   ]
  },
  {
   "cell_type": "code",
   "execution_count": 11,
   "id": "5ba21cc6-551f-4306-bd62-c6e8f47b98cc",
   "metadata": {},
   "outputs": [
    {
     "data": {
      "text/plain": [
       "{1, 2, 3, 4}"
      ]
     },
     "execution_count": 11,
     "metadata": {},
     "output_type": "execute_result"
    }
   ],
   "source": [
    "List = [1, 1, 1, 2, 1, 3, 1, 4, 2, 1, 2, 2, 2, 3, 2, 4, 3, 1, 3, 2, 3, 3, 3, 4, 4, 1, 4, 2, 4, 3, 4, 4]\n",
    "\n",
    "set(List)"
   ]
  },
  {
   "cell_type": "markdown",
   "id": "b7ca4f75-c63b-442e-850b-5bbd6348e8d8",
   "metadata": {},
   "source": [
    "Q.4"
   ]
  },
  {
   "cell_type": "code",
   "execution_count": 12,
   "id": "e8d1dead-2f11-4d37-93f9-60260dc8d9c2",
   "metadata": {},
   "outputs": [
    {
     "data": {
      "text/plain": [
       "{'apple', 'banana', 'cherry', 'google', 'microsoft'}"
      ]
     },
     "execution_count": 12,
     "metadata": {},
     "output_type": "execute_result"
    }
   ],
   "source": [
    "# \"Union\" is in built function for Set which returns a set that contains all items from both sets, duplicates are excluded:\n",
    "\n",
    "x = {\"apple\", \"banana\", \"cherry\"}\n",
    "y = {\"google\", \"microsoft\", \"apple\"}\n",
    "\n",
    "x.union(y)\n"
   ]
  },
  {
   "cell_type": "code",
   "execution_count": 13,
   "id": "53a7086c-f45a-4344-8214-872ca39d00dc",
   "metadata": {},
   "outputs": [],
   "source": [
    "# \"Update\" is a set with the union of itself and others. It will not return a new set and will just update with the 2nd one."
   ]
  },
  {
   "cell_type": "code",
   "execution_count": 14,
   "id": "40c56c14-4926-4ba2-90a9-1b4bbb45a1d0",
   "metadata": {},
   "outputs": [],
   "source": [
    "a = {'1','2','3','4','5','6'}\n",
    "b = {'4','5','6','7','8','9'}\n",
    "\n",
    "a.update(b)"
   ]
  },
  {
   "cell_type": "code",
   "execution_count": 15,
   "id": "e0a91ff4-92cd-45c5-8145-3d70bdcde9de",
   "metadata": {},
   "outputs": [
    {
     "data": {
      "text/plain": [
       "{'1', '2', '3', '4', '5', '6', '7', '8', '9'}"
      ]
     },
     "execution_count": 15,
     "metadata": {},
     "output_type": "execute_result"
    }
   ],
   "source": [
    "a\n"
   ]
  },
  {
   "cell_type": "markdown",
   "id": "0bd18a69-fc84-42c4-ba2e-1f81b6ac201e",
   "metadata": {},
   "source": [
    "Difference\n",
    "\n",
    "update changes a set by adding the elements of the other.\n",
    "\n",
    "union combines 2 sets into a 3rd and leaves the source 2 alone."
   ]
  },
  {
   "cell_type": "markdown",
   "id": "9954a63c-5854-4a79-ac0a-c65b5a1dbe3c",
   "metadata": {},
   "source": [
    "Q.5"
   ]
  },
  {
   "cell_type": "markdown",
   "id": "62164c76-1e2d-4eaf-891e-bc4329f6b8af",
   "metadata": {},
   "source": [
    "Dictionaries are used to store data values in key:value pairs.\n",
    "\n",
    "A dictionary is a collection which is ordered, changeable and do not allow duplicates."
   ]
  },
  {
   "cell_type": "code",
   "execution_count": 16,
   "id": "d93a920a-5aa1-4ae0-be5e-19ab6a7ffb62",
   "metadata": {},
   "outputs": [],
   "source": [
    "info = {\"name\":\"Rehan\", \"age\":26, \"DOB\":\"1-1-1997\"}"
   ]
  },
  {
   "cell_type": "code",
   "execution_count": 21,
   "id": "854fbe8d-201d-4c01-a319-1ac6ace505d3",
   "metadata": {},
   "outputs": [
    {
     "name": "stdout",
     "output_type": "stream",
     "text": [
      "{'name': 'Rehan', 'age': 26, 'DOB': '1-1-1997'}\n"
     ]
    },
    {
     "data": {
      "text/plain": [
       "'1-1-1997'"
      ]
     },
     "execution_count": 21,
     "metadata": {},
     "output_type": "execute_result"
    }
   ],
   "source": [
    "print(info)\n",
    "info['DOB']"
   ]
  },
  {
   "cell_type": "markdown",
   "id": "f1b8938f-4144-46b1-9066-45ef57e3a51f",
   "metadata": {},
   "source": [
    "Q.6"
   ]
  },
  {
   "cell_type": "code",
   "execution_count": 22,
   "id": "dc630641-55c8-461c-afa7-e6b1e0e0dc10",
   "metadata": {},
   "outputs": [
    {
     "data": {
      "text/plain": [
       "'22'"
      ]
     },
     "execution_count": 22,
     "metadata": {},
     "output_type": "execute_result"
    }
   ],
   "source": [
    "# Nested Dictionary:\n",
    "\n",
    "people = {1: {'name': 'John', 'age': '27', 'sex': 'Male'},\n",
    "          2: {'name': 'Marie', 'age': '22', 'sex': 'Female'}}\n",
    "\n",
    "people[2]['age']\n"
   ]
  },
  {
   "cell_type": "markdown",
   "id": "4b926bd0-0c99-40f7-b9cf-770f1c12d668",
   "metadata": {},
   "source": [
    "Q.7"
   ]
  },
  {
   "cell_type": "code",
   "execution_count": 9,
   "id": "43db81b2-b844-4bd2-a099-8d576c4acb85",
   "metadata": {},
   "outputs": [
    {
     "data": {
      "text/plain": [
       "{'language': 'Python',\n",
       " 'course': 'Data Science Masters',\n",
       " 'Topics': ['Python', 'Machine Learning', 'Deep Learning']}"
      ]
     },
     "execution_count": 9,
     "metadata": {},
     "output_type": "execute_result"
    }
   ],
   "source": [
    "dict1 = {'language' : 'Python', 'course': 'Data Science Masters'}\n",
    "l1 = [\"Python\", \"Machine Learning\", \"Deep Learning\"]\n",
    "\n",
    "dict1.setdefault(\"Topics\",l1)\n",
    "\n",
    "dict1\n",
    "                                   \n",
    "                            "
   ]
  },
  {
   "cell_type": "markdown",
   "id": "4cc1b16e-70f3-4dfe-897d-22170427e339",
   "metadata": {},
   "source": [
    "Q.8."
   ]
  },
  {
   "cell_type": "markdown",
   "id": "aa670d47-7543-4e5d-aca4-a0e408b5f0b2",
   "metadata": {},
   "source": [
    "The three view objects of dictionary in python are keys, values and items. They provide a non-constant view of the dictionary’s entries.\n",
    "\n",
    "Keys holds all the keys of the dictionary, the values objects holds all the values, whereas the items holds the key-value pairs."
   ]
  },
  {
   "cell_type": "code",
   "execution_count": 16,
   "id": "f3c9a5fc-0b6c-41a8-a5b0-7185541037b7",
   "metadata": {},
   "outputs": [
    {
     "data": {
      "text/plain": [
       "dict_keys(['Sport', 'Teams'])"
      ]
     },
     "execution_count": 16,
     "metadata": {},
     "output_type": "execute_result"
    }
   ],
   "source": [
    "dict1 = {'Sport': 'Cricket' , 'Teams': ['India', 'Australia', 'England', 'South Africa', 'Sri Lanka', 'New Zealand']}\n",
    "\n",
    "#keys:\n",
    "\n",
    "dict1.keys()"
   ]
  },
  {
   "cell_type": "code",
   "execution_count": 17,
   "id": "02e90153-49bd-480b-afa5-ddd2151e46ab",
   "metadata": {},
   "outputs": [
    {
     "data": {
      "text/plain": [
       "dict_values(['Cricket', ['India', 'Australia', 'England', 'South Africa', 'Sri Lanka', 'New Zealand']])"
      ]
     },
     "execution_count": 17,
     "metadata": {},
     "output_type": "execute_result"
    }
   ],
   "source": [
    "#values:\n",
    "\n",
    "dict1.values()"
   ]
  },
  {
   "cell_type": "code",
   "execution_count": 18,
   "id": "11499b98-1481-4aa4-9979-0f4385f5d85e",
   "metadata": {},
   "outputs": [
    {
     "data": {
      "text/plain": [
       "dict_items([('Sport', 'Cricket'), ('Teams', ['India', 'Australia', 'England', 'South Africa', 'Sri Lanka', 'New Zealand'])])"
      ]
     },
     "execution_count": 18,
     "metadata": {},
     "output_type": "execute_result"
    }
   ],
   "source": [
    "#items:\n",
    "\n",
    "dict1.items()"
   ]
  },
  {
   "cell_type": "code",
   "execution_count": null,
   "id": "f48a21a1-bc9e-4f80-ad9f-85489760f81e",
   "metadata": {},
   "outputs": [],
   "source": []
  }
 ],
 "metadata": {
  "kernelspec": {
   "display_name": "Python 3 (ipykernel)",
   "language": "python",
   "name": "python3"
  },
  "language_info": {
   "codemirror_mode": {
    "name": "ipython",
    "version": 3
   },
   "file_extension": ".py",
   "mimetype": "text/x-python",
   "name": "python",
   "nbconvert_exporter": "python",
   "pygments_lexer": "ipython3",
   "version": "3.10.8"
  }
 },
 "nbformat": 4,
 "nbformat_minor": 5
}
